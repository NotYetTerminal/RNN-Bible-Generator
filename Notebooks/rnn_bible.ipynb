{
 "cells": [
  {
   "cell_type": "markdown",
   "id": "831a047f-d3db-4211-b15f-de9302a54844",
   "metadata": {},
   "source": [
    "# RNN Bible Generator"
   ]
  },
  {
   "cell_type": "markdown",
   "id": "72047214-34d7-44d5-a16c-39183d5a3f1d",
   "metadata": {},
   "source": [
    "Notebook adapted from the [Shakespeare Text Generation (using RNN LSTM)](https://github.com/trekhleb/machine-learning-experiments/blob/master/experiments/text_generation_shakespeare_rnn/text_generation_shakespeare_rnn.ipynb) notebook.  \n",
    "Modified by: Gábor Major  \n",
    "Last Modified date: 2025-03-23"
   ]
  },
  {
   "cell_type": "markdown",
   "id": "ec08cabf-ef2d-4335-bd87-3972676f75b2",
   "metadata": {},
   "source": [
    "Import libraries."
   ]
  },
  {
   "cell_type": "code",
   "execution_count": 1,
   "id": "302ef676-6b95-4ad8-9d21-61da143d9cd4",
   "metadata": {},
   "outputs": [
    {
     "name": "stdout",
     "output_type": "stream",
     "text": [
      "Python version: 3.10.6\n",
      "Tensorflow version: 2.9.1\n",
      "Keras version: 2.9.0\n"
     ]
    }
   ],
   "source": [
    "import tensorflow as tf\n",
    "import matplotlib.pyplot as plt\n",
    "import numpy as np\n",
    "import platform\n",
    "import time\n",
    "import pathlib\n",
    "import os\n",
    "\n",
    "print('Python version:', platform.python_version())\n",
    "print('Tensorflow version:', tf.__version__)\n",
    "print('Keras version:', tf.keras.__version__)"
   ]
  },
  {
   "cell_type": "markdown",
   "id": "7e8999f5-1b62-4957-8c3a-ebf9f2efb5ab",
   "metadata": {},
   "source": [
    "## Load in Data\n",
    "The English Revised Version of the Bible was used which was downloaded from [Open Bible](https://openbible.com/texts.htm).  \n",
    "The Bible downloaded as a TXT file has 31,102 lines of text, with the specific section of the Bible the quote is from at the start of each line."
   ]
  },
  {
   "cell_type": "code",
   "execution_count": 2,
   "id": "1b53da3e-2245-4b54-80ea-728f405cc240",
   "metadata": {
    "scrolled": true
   },
   "outputs": [],
   "source": [
    "# Encoding needed to remove \\ufeff character\n",
    "with open('bible.txt', 'r',encoding='utf-8-sig') as f:\n",
    "    bible_text = f.read()"
   ]
  },
  {
   "cell_type": "markdown",
   "id": "150beeb9-1465-47e8-869d-6c733d6a52a9",
   "metadata": {},
   "source": [
    "## Analyse Data"
   ]
  },
  {
   "cell_type": "code",
   "execution_count": 3,
   "id": "2607621a-f579-4e76-8842-af37c9a03215",
   "metadata": {},
   "outputs": [
    {
     "name": "stdout",
     "output_type": "stream",
     "text": [
      "Length of text: 217717 characters\n",
      "Genesis 1:1\tIn the beginning God created the heaven and the earth.\n",
      "Genesis 1:2\tAnd the earth was waste and void; and darkness was upon the face of the deep: and the spirit of God moved upon the face of the waters.\n",
      "Genesis 1:3\tAnd God said, Let there \n"
     ]
    }
   ],
   "source": [
    "print(f'Length of text: {len(bible_text)} characters')\n",
    "# Take a look at the first 250 characters in text.\n",
    "print(bible_text[:250])"
   ]
  },
  {
   "cell_type": "code",
   "execution_count": 4,
   "id": "de2397c1-b67a-49b1-8aca-3ca5d1d94e46",
   "metadata": {},
   "outputs": [
    {
     "name": "stdout",
     "output_type": "stream",
     "text": [
      "73 unique characters\n",
      "Vocabularly: ['\\t', '\\n', ' ', '!', '(', ')', ',', '-', '.', '0', '1', '2', '3', '4', '5', '6', '7', '8', '9', ':', ';', '?', 'A', 'B', 'C', 'D', 'E', 'F', 'G', 'H', 'I', 'J', 'K', 'L', 'M', 'N', 'O', 'P', 'R', 'S', 'T', 'U', 'V', 'W', 'Y', 'Z', 'a', 'b', 'c', 'd', 'e', 'f', 'g', 'h', 'i', 'j', 'k', 'l', 'm', 'n', 'o', 'p', 'q', 'r', 's', 't', 'u', 'v', 'w', 'x', 'y', 'z', '’']\n"
     ]
    }
   ],
   "source": [
    "# The unique characters in the file\n",
    "vocabulary = sorted(set(bible_text))\n",
    "\n",
    "print(f'{len(vocabulary)} unique characters')\n",
    "print('Vocabularly:', vocabulary)"
   ]
  },
  {
   "cell_type": "markdown",
   "id": "8f03c131-917b-4933-8af9-d42a22d7b64f",
   "metadata": {},
   "source": [
    "## Process Data\n",
    "All of the text must be converted into a sequence of numbers for the model."
   ]
  },
  {
   "cell_type": "code",
   "execution_count": 5,
   "id": "58809e60-3914-4ada-a727-97d2f99a09b5",
   "metadata": {},
   "outputs": [
    {
     "name": "stdout",
     "output_type": "stream",
     "text": [
      "{\n",
      "  '\\t':   0,\n",
      "  '\\n':   1,\n",
      "  ' ' :   2,\n",
      "  '!' :   3,\n",
      "  '(' :   4,\n",
      "  ')' :   5,\n",
      "  ',' :   6,\n",
      "  '-' :   7,\n",
      "  '.' :   8,\n",
      "  '0' :   9,\n",
      "  '1' :  10,\n",
      "  '2' :  11,\n",
      "  '3' :  12,\n",
      "  '4' :  13,\n",
      "  '5' :  14,\n",
      "  '6' :  15,\n",
      "  '7' :  16,\n",
      "  '8' :  17,\n",
      "  '9' :  18,\n",
      "  ':' :  19,\n",
      "  ...\n",
      "}\n"
     ]
    }
   ],
   "source": [
    "# Map characters to their indices in vocabulary.\n",
    "char2index = {char: index for index, char in enumerate(vocabulary)}\n",
    "\n",
    "print('{')\n",
    "for char, _ in zip(char2index, range(20)):\n",
    "    print('  {:4s}: {:3d},'.format(repr(char), char2index[char]))\n",
    "print('  ...\\n}')"
   ]
  },
  {
   "cell_type": "code",
   "execution_count": 6,
   "id": "cf84883e-4eea-49a7-996c-b69a9064c286",
   "metadata": {},
   "outputs": [
    {
     "name": "stdout",
     "output_type": "stream",
     "text": [
      "['\\t' '\\n' ' ' '!' '(' ')' ',' '-' '.' '0' '1' '2' '3' '4' '5' '6' '7' '8'\n",
      " '9' ':' ';' '?' 'A' 'B' 'C' 'D' 'E' 'F' 'G' 'H' 'I' 'J' 'K' 'L' 'M' 'N'\n",
      " 'O' 'P' 'R' 'S' 'T' 'U' 'V' 'W' 'Y' 'Z' 'a' 'b' 'c' 'd' 'e' 'f' 'g' 'h'\n",
      " 'i' 'j' 'k' 'l' 'm' 'n' 'o' 'p' 'q' 'r' 's' 't' 'u' 'v' 'w' 'x' 'y' 'z'\n",
      " '’']\n"
     ]
    }
   ],
   "source": [
    "# Map character indices to characters from vacabulary.\n",
    "index2char = np.array(vocabulary)\n",
    "print(index2char)"
   ]
  },
  {
   "cell_type": "code",
   "execution_count": 7,
   "id": "39acebae-1a6b-4df5-bcf4-6543c419bbbd",
   "metadata": {},
   "outputs": [
    {
     "name": "stdout",
     "output_type": "stream",
     "text": [
      "text_as_int length: 217717\n",
      "'Genesis 1:1\\tIn ' --> array([28, 50, 59, 50, 64, 54, 64,  2, 10, 19, 10,  0, 30, 59,  2])\n"
     ]
    }
   ],
   "source": [
    "# Convert characters in text to indices.\n",
    "text_as_int = np.array([char2index[char] for char in bible_text])\n",
    "\n",
    "print(f'text_as_int length: {len(text_as_int)}')\n",
    "print(f'{repr(bible_text[:15])} --> {repr(text_as_int[:15])}')"
   ]
  },
  {
   "cell_type": "markdown",
   "id": "0568a0cd-0c64-44c0-83f8-8744408880f2",
   "metadata": {},
   "source": [
    "## Create Training Sequences"
   ]
  },
  {
   "cell_type": "code",
   "execution_count": 8,
   "id": "250c2160-de87-436a-937b-18862181bd1e",
   "metadata": {},
   "outputs": [
    {
     "name": "stdout",
     "output_type": "stream",
     "text": [
      "examples_per_epoch: 1799\n"
     ]
    }
   ],
   "source": [
    "# The maximum length sentence we want for a single input in characters.\n",
    "sequence_length = 120\n",
    "examples_per_epoch = len(bible_text) // (sequence_length + 1)\n",
    "\n",
    "print('examples_per_epoch:', examples_per_epoch)"
   ]
  },
  {
   "cell_type": "code",
   "execution_count": 9,
   "id": "8d60bc1c-98fa-4e84-bfd7-8704f7a634b0",
   "metadata": {},
   "outputs": [
    {
     "name": "stdout",
     "output_type": "stream",
     "text": [
      "G\n",
      "e\n",
      "n\n",
      "e\n",
      "s\n"
     ]
    }
   ],
   "source": [
    "# Create training dataset.\n",
    "char_dataset = tf.data.Dataset.from_tensor_slices(text_as_int)\n",
    "\n",
    "for char in char_dataset.take(5):\n",
    "    print(index2char[char.numpy()])"
   ]
  },
  {
   "cell_type": "code",
   "execution_count": 10,
   "id": "31eea40a-cc34-497b-9e5e-a03e047964d7",
   "metadata": {},
   "outputs": [
    {
     "name": "stdout",
     "output_type": "stream",
     "text": [
      "Sequences count: 1799\n",
      "\n",
      "'Genesis 1:1\\tIn the beginning God created the heaven and the earth.\\nGenesis 1:2\\tAnd the earth was waste and void; and dark'\n",
      "'ness was upon the face of the deep: and the spirit of God moved upon the face of the waters.\\nGenesis 1:3\\tAnd God said, Le'\n",
      "'t there be light: and there was light.\\nGenesis 1:4\\tAnd God saw the light, that it was good: and God divided the light fro'\n",
      "'m the darkness.\\nGenesis 1:5\\tAnd God called the light Day, and the darkness he called Night. And there was evening and the'\n",
      "'re was morning, one day.\\nGenesis 1:6\\tAnd God said, Let there be a firmament in the midst of the waters, and let it divide'\n"
     ]
    }
   ],
   "source": [
    "# Generate batched sequences out of the char_dataset.\n",
    "sequences = char_dataset.batch(sequence_length + 1, drop_remainder=True)\n",
    "\n",
    "# Sequences size is the same as examples_per_epoch.\n",
    "print(f'Sequences count: {len(list(sequences.as_numpy_iterator()))}');\n",
    "print()\n",
    "\n",
    "# Sequences examples.\n",
    "for item in sequences.take(5):\n",
    "    print(repr(''.join(index2char[item.numpy()])))"
   ]
  },
  {
   "cell_type": "markdown",
   "id": "d9b66763-d768-495f-ba27-cd98e7c2c1ce",
   "metadata": {},
   "source": [
    "Duplicate and shift each sequence to create the target output."
   ]
  },
  {
   "cell_type": "code",
   "execution_count": 11,
   "id": "31e75648-8cdb-4505-a091-ad0d97fc9960",
   "metadata": {},
   "outputs": [],
   "source": [
    "def split_input_target(chunk):\n",
    "    input_text = chunk[:-1]\n",
    "    target_text = chunk[1:]\n",
    "    return input_text, target_text"
   ]
  },
  {
   "cell_type": "code",
   "execution_count": 12,
   "id": "45e6e03a-fba7-423d-b483-ad30cad84f01",
   "metadata": {},
   "outputs": [
    {
     "name": "stdout",
     "output_type": "stream",
     "text": [
      "Dataset size: 1799\n"
     ]
    }
   ],
   "source": [
    "dataset = sequences.map(split_input_target)\n",
    "\n",
    "# Dataset size is the same as examples_per_epoch.\n",
    "# But each element of a sequence is now has length of `sequence_length`\n",
    "# and not `sequence_length + 1`.\n",
    "print(f'Dataset size: {len(list(dataset.as_numpy_iterator()))}')"
   ]
  },
  {
   "cell_type": "code",
   "execution_count": 13,
   "id": "9283ec89-f42e-4850-9c2c-22651260bfe0",
   "metadata": {},
   "outputs": [
    {
     "name": "stdout",
     "output_type": "stream",
     "text": [
      "Input sequence size: 120\n",
      "Target sequence size: 120\n",
      "\n",
      "Input: 'Genesis 1:1\\tIn the beginning God created the heaven and the earth.\\nGenesis 1:2\\tAnd the earth was waste and void; and dar'\n",
      "Target: 'enesis 1:1\\tIn the beginning God created the heaven and the earth.\\nGenesis 1:2\\tAnd the earth was waste and void; and dark'\n"
     ]
    }
   ],
   "source": [
    "for input_example, target_example in dataset.take(1):\n",
    "    print('Input sequence size:', repr(len(input_example.numpy())))\n",
    "    print('Target sequence size:', repr(len(target_example.numpy())))\n",
    "    print()\n",
    "    print('Input:', repr(''.join(index2char[input_example.numpy()])))\n",
    "    print('Target:', repr(''.join(index2char[target_example.numpy()])))"
   ]
  },
  {
   "cell_type": "markdown",
   "id": "914bf411-55a2-41fe-806a-e14e52ecb15e",
   "metadata": {},
   "source": [
    "Model is trained as follows at each step."
   ]
  },
  {
   "cell_type": "code",
   "execution_count": 14,
   "id": "228d3331-981f-4d75-a69a-28dfdf80428c",
   "metadata": {},
   "outputs": [
    {
     "name": "stdout",
     "output_type": "stream",
     "text": [
      "Step 0\n",
      "  input: 28 (G)\n",
      "  expected output: 50 (e)\n",
      "Step 1\n",
      "  input: 50 (e)\n",
      "  expected output: 59 (n)\n",
      "Step 2\n",
      "  input: 59 (n)\n",
      "  expected output: 50 (e)\n",
      "Step 3\n",
      "  input: 50 (e)\n",
      "  expected output: 64 (s)\n",
      "Step 4\n",
      "  input: 64 (s)\n",
      "  expected output: 54 (i)\n"
     ]
    }
   ],
   "source": [
    "for i, (input_idx, target_idx) in enumerate(zip(input_example[:5], target_example[:5])):\n",
    "    print(f'Step {i}')\n",
    "    print(f'  input: {input_idx} ({index2char[input_idx]})')\n",
    "    print(f'  expected output: {target_idx} ({index2char[target_idx]})')"
   ]
  },
  {
   "cell_type": "markdown",
   "id": "5c95f88e-95bb-4eb4-a4bc-9e583cd355ba",
   "metadata": {},
   "source": [
    "## Split into Batches\n",
    "Split the training sequences into batches, and shuffle them."
   ]
  },
  {
   "cell_type": "code",
   "execution_count": 15,
   "id": "0e51649e-d679-4b6c-a230-255ef775e151",
   "metadata": {},
   "outputs": [],
   "source": [
    "# Batch size.\n",
    "BATCH_SIZE = 64\n",
    "\n",
    "# Buffer size to shuffle the dataset (TF data is designed to work\n",
    "# with possibly infinite sequences, so it doesn't attempt to shuffle\n",
    "# the entire sequence in memory. Instead, it maintains a buffer in\n",
    "# which it shuffles elements).\n",
    "BUFFER_SIZE = 10000\n",
    "\n",
    "dataset = dataset.shuffle(BUFFER_SIZE).batch(BATCH_SIZE, drop_remainder=True)"
   ]
  },
  {
   "cell_type": "code",
   "execution_count": 16,
   "id": "4912863a-08b6-4cf0-960e-5b95de26e007",
   "metadata": {},
   "outputs": [
    {
     "name": "stdout",
     "output_type": "stream",
     "text": [
      "Batched dataset size: 28\n"
     ]
    }
   ],
   "source": [
    "print(f'Batched dataset size: {len(list(dataset.as_numpy_iterator()))}')"
   ]
  },
  {
   "cell_type": "code",
   "execution_count": 17,
   "id": "42192916-2b34-43a9-8cc7-3db08e3795bb",
   "metadata": {},
   "outputs": [
    {
     "name": "stdout",
     "output_type": "stream",
     "text": [
      "1st batch: input_text: tf.Tensor(\n",
      "[[12  0 22 ... 48 50 64]\n",
      " [50 59  2 ... 53  2 70]\n",
      " [49  2 46 ... 28 50 59]\n",
      " ...\n",
      " [58 46 54 ... 46 53 19]\n",
      " [50 59  2 ... 67 50 64]\n",
      " [65 60  2 ... 53  2 51]], shape=(64, 120), dtype=int32)\n",
      "\n",
      "1st batch: target_text: tf.Tensor(\n",
      "[[ 0 22 59 ... 50 64  8]\n",
      " [59  2 60 ...  2 70 60]\n",
      " [ 2 46 59 ... 50 59 50]\n",
      " ...\n",
      " [46 54 49 ... 53 19  2]\n",
      " [59  2 65 ... 50 64  2]\n",
      " [60  2 61 ...  2 51 60]], shape=(64, 120), dtype=int32)\n"
     ]
    }
   ],
   "source": [
    "for input_text, target_text in dataset.take(1):\n",
    "    print('1st batch: input_text:', input_text)\n",
    "    print()\n",
    "    print('1st batch: target_text:', target_text)"
   ]
  },
  {
   "cell_type": "markdown",
   "id": "d58f7f1b-7d32-458f-8f88-236ed863578f",
   "metadata": {},
   "source": [
    "## Build the Model\n",
    "Model consits of a Sequential model, with 3 layers.  \n",
    "Embedding Layer, used for input and as a lookup table.  \n",
    "LSTM Layer, core of the model, the RNN.  \n",
    "Dense Layer, used for the output."
   ]
  },
  {
   "cell_type": "code",
   "execution_count": 18,
   "id": "0b4b9518-771d-41c2-9961-f1b93ffc951b",
   "metadata": {},
   "outputs": [],
   "source": [
    "# Length of the vocabulary in characters.\n",
    "vocabulary_size = len(vocabulary)\n",
    "\n",
    "# The embedding dimension.\n",
    "embedding_dim = 256\n",
    "\n",
    "# Number of RNN units.\n",
    "rnn_units = 1024"
   ]
  },
  {
   "cell_type": "code",
   "execution_count": 19,
   "id": "13011a76-69c6-42a5-af20-4723e7b1a2fa",
   "metadata": {},
   "outputs": [],
   "source": [
    "def build_model(vocabulary_size, embedding_dim, rnn_units, batch_size):\n",
    "    model = tf.keras.models.Sequential()\n",
    "\n",
    "    model.add(tf.keras.layers.Embedding(\n",
    "        input_dim=vocabulary_size,\n",
    "        output_dim=embedding_dim,\n",
    "        batch_input_shape=[batch_size, None]\n",
    "    ))\n",
    "\n",
    "    model.add(tf.keras.layers.LSTM(\n",
    "        units=rnn_units,\n",
    "        return_sequences=True,\n",
    "        stateful=True,\n",
    "        recurrent_initializer=tf.keras.initializers.GlorotNormal()\n",
    "    ))\n",
    "\n",
    "    model.add(tf.keras.layers.Dense(vocabulary_size))\n",
    "  \n",
    "    return model"
   ]
  },
  {
   "cell_type": "code",
   "execution_count": 20,
   "id": "8f40495a-4dee-47be-b890-accd9c01830f",
   "metadata": {},
   "outputs": [
    {
     "name": "stdout",
     "output_type": "stream",
     "text": [
      "Model: \"sequential\"\n",
      "_________________________________________________________________\n",
      " Layer (type)                Output Shape              Param #   \n",
      "=================================================================\n",
      " embedding (Embedding)       (64, None, 256)           18688     \n",
      "                                                                 \n",
      " lstm (LSTM)                 (64, None, 1024)          5246976   \n",
      "                                                                 \n",
      " dense (Dense)               (64, None, 73)            74825     \n",
      "                                                                 \n",
      "=================================================================\n",
      "Total params: 5,340,489\n",
      "Trainable params: 5,340,489\n",
      "Non-trainable params: 0\n",
      "_________________________________________________________________\n"
     ]
    }
   ],
   "source": [
    "model = build_model(vocabulary_size, embedding_dim, rnn_units, BATCH_SIZE)\n",
    "model.summary()"
   ]
  },
  {
   "cell_type": "markdown",
   "id": "8f8d2ed7-aa2c-42d8-8d38-8ccdafee62fc",
   "metadata": {},
   "source": [
    "## Train the Model"
   ]
  },
  {
   "cell_type": "code",
   "execution_count": 21,
   "id": "7f802899-bc09-4e63-bdd1-6ed21d74ad66",
   "metadata": {},
   "outputs": [
    {
     "name": "stdout",
     "output_type": "stream",
     "text": [
      "(64, 120, 73) # (batch_size, sequence_length, vocab_size)\n"
     ]
    }
   ],
   "source": [
    "for input_example_batch, target_example_batch in dataset.take(1):\n",
    "    example_batch_predictions = model(input_example_batch)\n",
    "    print(example_batch_predictions.shape, \"# (batch_size, sequence_length, vocab_size)\")"
   ]
  },
  {
   "cell_type": "code",
   "execution_count": 22,
   "id": "5d9d9405-4d7c-429e-b746-adbbb6d3ea60",
   "metadata": {},
   "outputs": [
    {
     "name": "stdout",
     "output_type": "stream",
     "text": [
      "Prediction shape:  (64, 120, 73)  # (batch_size, sequence_length, vocabulary_size)\n",
      "scalar_loss:       4.290621\n"
     ]
    }
   ],
   "source": [
    "# An objective function.\n",
    "# The function is any callable with the signature scalar_loss = fn(y_true, y_pred).\n",
    "def loss(labels, logits):\n",
    "    return tf.keras.losses.sparse_categorical_crossentropy(\n",
    "      y_true=labels,\n",
    "      y_pred=logits,\n",
    "      from_logits=True\n",
    "    )\n",
    "\n",
    "example_batch_loss = loss(target_example_batch, example_batch_predictions)\n",
    "\n",
    "print(\"Prediction shape: \", example_batch_predictions.shape, \" # (batch_size, sequence_length, vocabulary_size)\")\n",
    "print(\"scalar_loss:      \", example_batch_loss.numpy().mean())"
   ]
  },
  {
   "cell_type": "code",
   "execution_count": 23,
   "id": "5829c8d7-bc9f-495c-92c9-549ba1dee976",
   "metadata": {},
   "outputs": [],
   "source": [
    "adam_optimizer = tf.keras.optimizers.Adam(learning_rate=0.001)\n",
    "model.compile(\n",
    "    optimizer=adam_optimizer,\n",
    "    loss=loss\n",
    ")\n",
    "epochs = 20"
   ]
  },
  {
   "cell_type": "code",
   "execution_count": 24,
   "id": "b84f653f-e25b-4f13-ae0d-ba20ff2c6854",
   "metadata": {},
   "outputs": [],
   "source": [
    "# Directory where the checkpoints will be saved.\n",
    "checkpoint_dir = 'tmp/checkpoints'\n",
    "os.makedirs(checkpoint_dir, exist_ok=True)\n",
    "\n",
    "# Name of the checkpoint files\n",
    "checkpoint_prefix = os.path.join(checkpoint_dir, 'ckpt_{epoch}')\n",
    "\n",
    "checkpoint_callback=tf.keras.callbacks.ModelCheckpoint(\n",
    "    filepath=checkpoint_prefix,\n",
    "    save_weights_only=True\n",
    ")"
   ]
  },
  {
   "cell_type": "code",
   "execution_count": 25,
   "id": "86bc26de-3cc9-4079-966c-6f0b50d7244c",
   "metadata": {},
   "outputs": [
    {
     "name": "stdout",
     "output_type": "stream",
     "text": [
      "Epoch 1/20\n",
      "28/28 [==============================] - 76s 3s/step - loss: 3.2935\n",
      "Epoch 2/20\n",
      "28/28 [==============================] - 118s 4s/step - loss: 2.8404\n",
      "Epoch 3/20\n",
      "28/28 [==============================] - 131s 5s/step - loss: 2.2141\n",
      "Epoch 4/20\n",
      "28/28 [==============================] - 146s 5s/step - loss: 1.9677\n",
      "Epoch 5/20\n",
      "28/28 [==============================] - 148s 5s/step - loss: 1.8347\n",
      "Epoch 6/20\n",
      "28/28 [==============================] - 156s 6s/step - loss: 1.7144\n",
      "Epoch 7/20\n",
      "28/28 [==============================] - 153s 5s/step - loss: 1.6008\n",
      "Epoch 8/20\n",
      "28/28 [==============================] - 167s 6s/step - loss: 1.4996\n",
      "Epoch 9/20\n",
      "28/28 [==============================] - 165s 6s/step - loss: 1.4125\n",
      "Epoch 10/20\n",
      "28/28 [==============================] - 170s 6s/step - loss: 1.3309\n",
      "Epoch 11/20\n",
      "28/28 [==============================] - 172s 6s/step - loss: 1.2686\n",
      "Epoch 12/20\n",
      "28/28 [==============================] - 184s 7s/step - loss: 1.2117\n",
      "Epoch 13/20\n",
      "28/28 [==============================] - 178s 6s/step - loss: 1.1621\n",
      "Epoch 14/20\n",
      "28/28 [==============================] - 200s 7s/step - loss: 1.1182\n",
      "Epoch 15/20\n",
      "28/28 [==============================] - 214s 8s/step - loss: 1.0764\n",
      "Epoch 16/20\n",
      "28/28 [==============================] - 190s 7s/step - loss: 1.0399\n",
      "Epoch 17/20\n",
      "28/28 [==============================] - 180s 6s/step - loss: 1.0016\n",
      "Epoch 18/20\n",
      "28/28 [==============================] - 183s 7s/step - loss: 0.9691\n",
      "Epoch 19/20\n",
      "28/28 [==============================] - 187s 7s/step - loss: 0.9327\n",
      "Epoch 20/20\n",
      "28/28 [==============================] - 177s 6s/step - loss: 0.9004\n"
     ]
    }
   ],
   "source": [
    "history = model.fit(\n",
    "  x=dataset,\n",
    "  epochs=epochs,\n",
    "  callbacks=[\n",
    "    checkpoint_callback\n",
    "  ]\n",
    ")"
   ]
  },
  {
   "cell_type": "code",
   "execution_count": 26,
   "id": "963d3b71-48eb-430b-9332-0fc46c73e1ca",
   "metadata": {},
   "outputs": [],
   "source": [
    "def render_training_history(training_history):\n",
    "    loss = training_history.history['loss']\n",
    "    plt.title('Loss')\n",
    "    plt.xlabel('Epoch')\n",
    "    plt.ylabel('Loss')\n",
    "    plt.plot(loss, label='Training set')\n",
    "    plt.legend()\n",
    "    plt.grid(linestyle='--', linewidth=1, alpha=0.5)\n",
    "    plt.show()"
   ]
  },
  {
   "cell_type": "code",
   "execution_count": 27,
   "id": "aad2e594-f963-470d-bfe6-45c7a6e7aded",
   "metadata": {},
   "outputs": [
    {
     "data": {
      "image/png": "[encoded data removed]",
      "text/plain": [
       "<Figure size 640x480 with 1 Axes>"
      ]
     },
     "metadata": {},
     "output_type": "display_data"
    }
   ],
   "source": [
    "render_training_history(history)"
   ]
  },
  {
   "cell_type": "markdown",
   "id": "0d575f45-0be5-4b71-baf3-36617022d39e",
   "metadata": {},
   "source": [
    "Restore last checkpoint to change batch_size to 1."
   ]
  },
  {
   "cell_type": "code",
   "execution_count": 28,
   "id": "681970b0-c16b-40df-be37-33be518738bb",
   "metadata": {},
   "outputs": [
    {
     "data": {
      "text/plain": [
       "'tmp/checkpoints\\\\ckpt_20'"
      ]
     },
     "execution_count": 28,
     "metadata": {},
     "output_type": "execute_result"
    }
   ],
   "source": [
    "tf.train.latest_checkpoint(checkpoint_dir)"
   ]
  },
  {
   "cell_type": "code",
   "execution_count": 29,
   "id": "85fd6fdc-e314-4e98-b500-649ab1e16837",
   "metadata": {},
   "outputs": [
    {
     "name": "stdout",
     "output_type": "stream",
     "text": [
      "Model: \"sequential_1\"\n",
      "_________________________________________________________________\n",
      " Layer (type)                Output Shape              Param #   \n",
      "=================================================================\n",
      " embedding_1 (Embedding)     (1, None, 256)            18688     \n",
      "                                                                 \n",
      " lstm_1 (LSTM)               (1, None, 1024)           5246976   \n",
      "                                                                 \n",
      " dense_1 (Dense)             (1, None, 73)             74825     \n",
      "                                                                 \n",
      "=================================================================\n",
      "Total params: 5,340,489\n",
      "Trainable params: 5,340,489\n",
      "Non-trainable params: 0\n",
      "_________________________________________________________________\n"
     ]
    }
   ],
   "source": [
    "simplified_batch_size = 1\n",
    "\n",
    "model = build_model(vocabulary_size, embedding_dim, rnn_units, batch_size=1)\n",
    "model.load_weights(tf.train.latest_checkpoint(checkpoint_dir))\n",
    "model.build(tf.TensorShape([simplified_batch_size, None]))\n",
    "\n",
    "model.summary()"
   ]
  },
  {
   "cell_type": "markdown",
   "id": "227caeb4-5cb7-4886-917a-4d59931c6387",
   "metadata": {},
   "source": [
    "## Generate Text"
   ]
  },
  {
   "cell_type": "code",
   "execution_count": 30,
   "id": "994f8ffc-1fad-4b19-bb40-5e08cc969c53",
   "metadata": {},
   "outputs": [],
   "source": [
    "# num_generate\n",
    "# - number of characters to generate.\n",
    "#\n",
    "# temperature\n",
    "# - Low temperatures results in more predictable text.\n",
    "# - Higher temperatures results in more surprising text.\n",
    "# - Experiment to find the best setting.\n",
    "def generate_text(model, start_string, num_generate = 1000, temperature=1.0):\n",
    "    # Evaluation step (generating text using the learned model)\n",
    "\n",
    "    # Converting our start string to numbers (vectorizing).\n",
    "    input_indices = [char2index[s] for s in start_string]\n",
    "    input_indices = tf.expand_dims(input_indices, 0)\n",
    "\n",
    "    # Empty string to store our results.\n",
    "    text_generated = []\n",
    "\n",
    "    # Here batch size == 1.\n",
    "    model.reset_states()\n",
    "    for char_index in range(num_generate):\n",
    "        predictions = model(input_indices)\n",
    "        # remove the batch dimension\n",
    "        predictions = tf.squeeze(predictions, 0)\n",
    "\n",
    "        # Using a categorical distribution to predict the character returned by the model.\n",
    "        predictions = predictions / temperature\n",
    "        predicted_id = tf.random.categorical(\n",
    "        predictions,\n",
    "        num_samples=1\n",
    "        )[-1,0].numpy()\n",
    "\n",
    "        # We pass the predicted character as the next input to the model\n",
    "        # along with the previous hidden state.\n",
    "        input_indices = tf.expand_dims([predicted_id], 0)\n",
    "\n",
    "        text_generated.append(index2char[predicted_id])\n",
    "\n",
    "    return (start_string + ''.join(text_generated))"
   ]
  },
  {
   "cell_type": "code",
   "execution_count": 31,
   "id": "9ce9c9da-5129-4beb-91ad-cd0560020342",
   "metadata": {},
   "outputs": [
    {
     "name": "stdout",
     "output_type": "stream",
     "text": [
      "Jesus digngistly in the eyst hath lave I go set.\n",
      "Genesis 26:9\tAnd it wher shall thlich thy corn, and he gave the remes; and he fenited, and wainged, and said, Let made the servanm And che heaven and her mouth one vening, and begat her houneded an hurdmy.\n",
      "Genesis 21:37\tAnd Abimelechss begy the people, which he called him nam.\n",
      "Genesis 30:8\tAnd he said unto him, We was and the gare of the put which the gave in the hendrame that stare upon one alo the flock; but I lift us masce thing that camfling every lift up: ssent in, behold, tell I go an hul bost on house that is time in the land of Canaanith.\n",
      "Genesis 35:13\tAnd she also and his howe hand there an hundred and said unto Joseph, God made how.\n",
      "Genesis 7:15\tAnd there anso thou raysel kone say unto him, and shall ye shall be brother out of them, the night, and will I be suith thy brother; These are the doutter of men of his housemoss. now hath begat seem to days in the blest nom to thy lord?\n",
      "Genesis 30:4\tand he unto them; and he had senteng from \n"
     ]
    }
   ],
   "source": [
    "# Generate the text with default temperature (1.0).\n",
    "print(generate_text(model, start_string=u\"Jesus \"))"
   ]
  },
  {
   "cell_type": "code",
   "execution_count": 32,
   "id": "66d15a2d-3cdf-4e98-84d3-4c9658ddf121",
   "metadata": {},
   "outputs": [
    {
     "name": "stdout",
     "output_type": "stream",
     "text": [
      "Jesus shall be circumcised; and the children of Seriz were nine hundred and five years: and he said, Let me not see the land of Egypt and came into the land of Egypt and with him into the land of Egypt and said, Behold, I have carned he sent the ground, which were is none unto me, the man of the face of the firstborn against the way of it was donn in his brethren.\n",
      "Genesis 44:10\tAnd the Amorise, and the God of Jacob her hands in the children of Heth; and he was a righteous borne with me shall be greated unto my day unto thee and the good of the ground; and the seven and said, Who sons of Jacob, and Madar and Zizion, and Sarah his brother unto him the wold, and said, Behold, I have died, and made he death the days of the land of Canaan.\n",
      "Genesis 24:15\tAnd the famine was sore in the land of Egypt, and the children of Canaan; and the sons of Belaham, the father of the fountain of the breath of the daughter of Egypt were born unto them the tonth, saying, The servant came up from off the earth, and\n"
     ]
    }
   ],
   "source": [
    "# Generate the text with lower temperature to get more readable results.\n",
    "print(generate_text(model, start_string=u\"Jesus \", temperature=0.48))"
   ]
  },
  {
   "cell_type": "markdown",
   "id": "b231253b-4d42-400b-9596-cf032f29c426",
   "metadata": {},
   "source": [
    "## Save Model"
   ]
  },
  {
   "cell_type": "code",
   "execution_count": 33,
   "id": "0cd14edc-9da5-4f15-a470-0cf43cf7bd18",
   "metadata": {},
   "outputs": [
    {
     "name": "stdout",
     "output_type": "stream",
     "text": [
      "WARNING:tensorflow:Compiled the loaded model, but the compiled metrics have yet to be built. `model.compile_metrics` will be empty until you train or evaluate the model.\n"
     ]
    }
   ],
   "source": [
    "model.save('rnn_bible.keras')"
   ]
  },
  {
   "cell_type": "markdown",
   "id": "277b8b0f-714b-4fb1-9660-03c4bc001692",
   "metadata": {},
   "source": [
    "## Load Model\n",
    "The model is then able to be loaded and used."
   ]
  },
  {
   "cell_type": "code",
   "execution_count": 34,
   "id": "3e19e85b-e86d-4a38-9f39-7b49e9262393",
   "metadata": {},
   "outputs": [
    {
     "name": "stdout",
     "output_type": "stream",
     "text": [
      "WARNING:tensorflow:No training configuration found in the save file, so the model was *not* compiled. Compile it manually.\n",
      "WARNING:tensorflow:Detecting that an object or model or tf.train.Checkpoint is being deleted with unrestored values. See the following logs for the specific values in question. To silence these warnings, use `status.expect_partial()`. See https://www.tensorflow.org/api_docs/python/tf/train/Checkpoint#restorefor details about the status object returned by the restore function.\n",
      "WARNING:tensorflow:Value in checkpoint could not be found in the restored object: (root).optimizer.iter\n",
      "WARNING:tensorflow:Value in checkpoint could not be found in the restored object: (root).optimizer.beta_1\n",
      "WARNING:tensorflow:Value in checkpoint could not be found in the restored object: (root).optimizer.beta_2\n",
      "WARNING:tensorflow:Value in checkpoint could not be found in the restored object: (root).optimizer.decay\n",
      "WARNING:tensorflow:Value in checkpoint could not be found in the restored object: (root).optimizer.learning_rate\n",
      "WARNING:tensorflow:Value in checkpoint could not be found in the restored object: (root).optimizer's state 'm' for (root).layer_with_weights-0.embeddings\n",
      "WARNING:tensorflow:Value in checkpoint could not be found in the restored object: (root).optimizer's state 'm' for (root).layer_with_weights-2.kernel\n",
      "WARNING:tensorflow:Value in checkpoint could not be found in the restored object: (root).optimizer's state 'm' for (root).layer_with_weights-2.bias\n",
      "WARNING:tensorflow:Value in checkpoint could not be found in the restored object: (root).optimizer's state 'm' for (root).layer_with_weights-1.cell.kernel\n",
      "WARNING:tensorflow:Value in checkpoint could not be found in the restored object: (root).optimizer's state 'm' for (root).layer_with_weights-1.cell.recurrent_kernel\n",
      "WARNING:tensorflow:Value in checkpoint could not be found in the restored object: (root).optimizer's state 'm' for (root).layer_with_weights-1.cell.bias\n",
      "WARNING:tensorflow:Value in checkpoint could not be found in the restored object: (root).optimizer's state 'v' for (root).layer_with_weights-0.embeddings\n",
      "WARNING:tensorflow:Value in checkpoint could not be found in the restored object: (root).optimizer's state 'v' for (root).layer_with_weights-2.kernel\n",
      "WARNING:tensorflow:Value in checkpoint could not be found in the restored object: (root).optimizer's state 'v' for (root).layer_with_weights-2.bias\n",
      "WARNING:tensorflow:Value in checkpoint could not be found in the restored object: (root).optimizer's state 'v' for (root).layer_with_weights-1.cell.kernel\n",
      "WARNING:tensorflow:Value in checkpoint could not be found in the restored object: (root).optimizer's state 'v' for (root).layer_with_weights-1.cell.recurrent_kernel\n",
      "WARNING:tensorflow:Value in checkpoint could not be found in the restored object: (root).optimizer's state 'v' for (root).layer_with_weights-1.cell.bias\n",
      "Jesus 27:2\tAnd the thing were seven God him for his wife shall be called your with us after their father, saying, The dest of the goods in the day of the land unto the people, of my lord’s bought of the captain of all the earth, and the servant be such an hundred and five your every sur, and hand the flocks of my father’s house, and had not concening unto my lord in the land of Egypt, and and their children of Isreee in the dield.\n",
      "Genesis 17:2\tAnd Adam kene to the cattle and the days of the servant Joseph was from the king of the gardent of the place, and his faces which he had served between my head, and ars of the land of Egypt.\n",
      "Genesis 44:13\tAnd he said, What he set me a piven in the land of Egypt said unto them, We are seven death of my kingred and from the flocks upon the earth, and let her forty and with him.\n",
      "Genesis 27:24\tAnd he said, Who are be carryvint unto Egypt, and said, What came to pass, when the LORD im made a wife of Sarai, and Lot spake unto them.\n",
      "Genesis 45:13\tAnd he said,\n"
     ]
    }
   ],
   "source": [
    "model = tf.keras.models.load_model('rnn_bible.keras')\n",
    "print(generate_text(model, start_string=u\"Jesus \", temperature=0.7))"
   ]
  },
  {
   "cell_type": "code",
   "execution_count": null,
   "id": "f59f63f5-76a3-4191-92d7-e82ef6b7084c",
   "metadata": {},
   "outputs": [],
   "source": []
  }
 ],
 "metadata": {
  "kernelspec": {
   "display_name": "Python 3 (ipykernel)",
   "language": "python",
   "name": "python3"
  },
  "language_info": {
   "codemirror_mode": {
    "name": "ipython",
    "version": 3
   },
   "file_extension": ".py",
   "mimetype": "text/x-python",
   "name": "python",
   "nbconvert_exporter": "python",
   "pygments_lexer": "ipython3",
   "version": "3.12.5"
  }
 },
 "nbformat": 4,
 "nbformat_minor": 5
}
